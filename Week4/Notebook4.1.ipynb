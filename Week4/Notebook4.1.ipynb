{
  "cells": [
    {
      "cell_type": "markdown",
      "metadata": {
        "id": "view-in-github",
        "colab_type": "text"
      },
      "source": [
        "<a href=\"https://colab.research.google.com/github/hanisami/programming_for_applied_ai/blob/main/Week4/Notebook4.1.ipynb\" target=\"_parent\"><img src=\"https://colab.research.google.com/assets/colab-badge.svg\" alt=\"Open In Colab\"/></a>"
      ]
    },
    {
      "cell_type": "markdown",
      "id": "5903d1dd",
      "metadata": {
        "id": "5903d1dd"
      },
      "source": [
        "## Problem Statement"
      ]
    },
    {
      "cell_type": "markdown",
      "id": "cf87f1ae",
      "metadata": {
        "id": "cf87f1ae"
      },
      "source": [
        "In the era of growing medical data and the ascent of Data Science, numerous potential solutions are embracing the challenge of developing predictive indicators for potential diseases. Among these are the cardiovascular diseases (CVDs), which stand out as the leading global cause of mortality, claiming around 17.9 million lives annually and constituting 31% of total global deaths. Within the context of CVDs, heart failure emerges as the most occurrent. Individuals with cardiovascular disease, or those at a heightened cardiovascular risk due to factors like hypertension, diabetes, hyperlipidemia, or pre-existing conditions, necessitate early identification and intervention. This is where the application of machine learning models can play a very life-saving and imensly important role. By doing so, we aim to build this notebook to automate the resolution of yet another natural problem, leveraging AI techniques to transition our focus towards tackling the subsequent challenges.\n",
        "\n",
        "#### * We continue to build and explaing parts of this notebook as we progress with our Programming for Applied AI course. In the Objectives section, we state the goal of the current version of the notebook.\n",
        "\n",
        "#### * The objective of providing you with these notebooks is for you to get hands on experience with the different concepts covered thoughout the course lessons.\n",
        "\n",
        "#### * For practicing, we advise you to run all the cells. You can do this by selection \"Run All\" from the \"Cell\" tab in the navigation bar on top. For running individual cells, you have to select the cell you want, the click \"Run\" in the navigation bar. Please refer to the video in Week 3 / Practical Exercises for more information on how you can use this notebook."
      ]
    },
    {
      "cell_type": "markdown",
      "id": "86b59399",
      "metadata": {
        "id": "86b59399"
      },
      "source": [
        "## Objectives"
      ]
    },
    {
      "cell_type": "markdown",
      "id": "a1601d98",
      "metadata": {
        "id": "a1601d98"
      },
      "source": [
        "- Understand the heart failure prediction dataset and its content.\n",
        "- Apply Lists and use the Iterators and Loops covered in week 3."
      ]
    },
    {
      "cell_type": "markdown",
      "id": "0aa14c89",
      "metadata": {
        "id": "0aa14c89"
      },
      "source": [
        "## Dataset Description"
      ]
    },
    {
      "cell_type": "markdown",
      "id": "3f3f3f84",
      "metadata": {
        "id": "3f3f3f84"
      },
      "source": [
        "A dataset contains a set of columns, which we refer to as attributes. An instance of these combined attributes forms a row. Each of these attributes gives us additional information about the patient state, which can help in identifying if the patient possiblly has a heart diseas. A collection of rows forms that dataset. This data is the core of our machine learning model that we are going to build throughout the lessons. A \"prediction\", which can also be called a \"label\", is the classification of every row refering to a possibility of a heart disease with a yes/no or 0/1."
      ]
    },
    {
      "cell_type": "markdown",
      "id": "79415942",
      "metadata": {
        "id": "79415942"
      },
      "source": [
        "## Dataset Attributes Description"
      ]
    },
    {
      "cell_type": "markdown",
      "id": "76f5ac69",
      "metadata": {
        "id": "76f5ac69"
      },
      "source": [
        "In the attached documents, you can find 'heart.csv', which cantains the heatt disease dataset.\n",
        "\n",
        "Below are the list of columns/attributes in the dataset. We explain the meaning of each of the attributes.\n",
        "\n",
        "- Age : age of the patient [years]\n",
        "- Sex : sex of the patient [M: Male, F: Female]\n",
        "- ChestPainType : chest pain type [TA: Typical Angina, ATA: Atypical Angina, NAP: Non-Anginal Pain, ASY: Asymptomatic]\n",
        "- RestingBP : resting blood pressure [mm Hg]\n",
        "- Cholesterol : serum cholesterol [mm/dl]\n",
        "- FastingBS : fasting blood sugar [1: if FastingBS > 120 mg/dl, 0: otherwise]\n",
        "- RestingECG : resting electrocardiogram results [Normal: Normal, ST: having ST-T wave abnormality (T wave inversions and/or ST elevation or depression of > 0.05 mV), LVH: showing probable or definite left ventricular hypertrophy by Estes' criteria]\n",
        "- MaxHR : maximum heart rate achieved [Numeric value between 60 and 202]\n",
        "- ExerciseAngina : exercise-induced angina [Y: Yes, N: No]\n",
        "- Oldpeak : oldpeak = ST [Numeric value measured in depression]\n",
        "- ST_Slope : the slope of the peak exercise ST segment [Up: upsloping, Flat: flat, Down: downsloping]\n",
        "- HeartDisease : output class [1: heart disease, 0: Normal]"
      ]
    },
    {
      "cell_type": "markdown",
      "id": "c2dbf349",
      "metadata": {
        "id": "c2dbf349"
      },
      "source": [
        "# <center><div style=\"font-family: Trebuchet MS; background-color: #000000; color: #FFFF; padding: 10px; line-height: 1;\">Do not worry about the following code cells, we are going to cover it later. For now, after you run all the cells, scroll down to \"Dictionaries Practice\" and attempt to solve the exercises described in the lessons.</div></center>"
      ]
    },
    {
      "cell_type": "markdown",
      "id": "bacdcee0",
      "metadata": {
        "id": "bacdcee0"
      },
      "source": [
        "#### Import libraries/modules"
      ]
    },
    {
      "cell_type": "code",
      "execution_count": null,
      "id": "b09dcc08",
      "metadata": {
        "id": "b09dcc08"
      },
      "outputs": [],
      "source": [
        "# Install Packages\n",
        "!pip install pandas numpy matplotlib seaborn"
      ]
    },
    {
      "cell_type": "code",
      "execution_count": null,
      "id": "862046b8",
      "metadata": {
        "id": "862046b8"
      },
      "outputs": [],
      "source": [
        "import pandas as pd\n",
        "import numpy as np\n",
        "import matplotlib.pyplot as plt\n",
        "%matplotlib inline\n",
        "import seaborn as sns\n",
        "pd.options.display.float_format = '{:.2f}'.format\n",
        "import warnings\n",
        "warnings.filterwarnings('ignore')"
      ]
    },
    {
      "cell_type": "markdown",
      "id": "c4ec22c7",
      "metadata": {
        "id": "c4ec22c7"
      },
      "source": [
        "### Reading Data"
      ]
    },
    {
      "cell_type": "code",
      "execution_count": null,
      "id": "f5a8d1ea",
      "metadata": {
        "id": "f5a8d1ea"
      },
      "outputs": [],
      "source": [
        "import csv\n",
        "\n",
        "data = []\n",
        "\n",
        "with open('./data/heart.csv', mode='r') as csv_file:\n",
        "    # Create a CSV reader object\n",
        "    csv_reader = csv.DictReader(csv_file)\n",
        "\n",
        "    # Loop through each row in the CSV file\n",
        "    for row in csv_reader:\n",
        "        # Append each row (as a dictionary) to the data list\n",
        "        data.append(row)"
      ]
    },
    {
      "cell_type": "markdown",
      "id": "9af3c025",
      "metadata": {
        "id": "9af3c025"
      },
      "source": [
        "### Here is a sample of the first row in the dataset. You can see the keys as the attributes, which are associated with values"
      ]
    },
    {
      "cell_type": "code",
      "execution_count": null,
      "id": "4eeaf0c1",
      "metadata": {
        "id": "4eeaf0c1"
      },
      "outputs": [],
      "source": [
        "data[0]"
      ]
    },
    {
      "cell_type": "markdown",
      "id": "b1053424",
      "metadata": {
        "id": "b1053424"
      },
      "source": [
        "# <center><div style=\"font-family: Trebuchet MS; background-color: #F93822; color: #FDD20E; padding: 12px; line-height: 1;\">Lesson 2 - Dictionaries Practice</div></center>"
      ]
    },
    {
      "cell_type": "code",
      "execution_count": null,
      "id": "88f29cfe",
      "metadata": {
        "id": "88f29cfe"
      },
      "outputs": [],
      "source": []
    },
    {
      "cell_type": "markdown",
      "id": "919c2ebc",
      "metadata": {
        "id": "919c2ebc"
      },
      "source": [
        "# <center><div style=\"font-family: Trebuchet MS; background-color: #F93822; color: #FDD20E; padding: 12px; line-height: 1;\">Lesson 3 - Functions Practice</div></center>"
      ]
    },
    {
      "cell_type": "code",
      "source": [],
      "metadata": {
        "id": "PK-94potu0Iq"
      },
      "id": "PK-94potu0Iq",
      "execution_count": null,
      "outputs": []
    },
    {
      "cell_type": "markdown",
      "id": "718fe86f",
      "metadata": {
        "id": "718fe86f"
      },
      "source": [
        "# <center><div style=\"font-family: Trebuchet MS; background-color: #F93822; color: #FDD20E; padding: 12px; line-height: 1;\">Lesson 4 - File Reading</div></center>"
      ]
    },
    {
      "cell_type": "code",
      "execution_count": null,
      "id": "6e561d48",
      "metadata": {
        "id": "6e561d48"
      },
      "outputs": [],
      "source": []
    }
  ],
  "metadata": {
    "kernelspec": {
      "display_name": "Python 3 (ipykernel)",
      "language": "python",
      "name": "python3"
    },
    "language_info": {
      "codemirror_mode": {
        "name": "ipython",
        "version": 3
      },
      "file_extension": ".py",
      "mimetype": "text/x-python",
      "name": "python",
      "nbconvert_exporter": "python",
      "pygments_lexer": "ipython3",
      "version": "3.9.7"
    },
    "colab": {
      "provenance": [],
      "include_colab_link": true
    }
  },
  "nbformat": 4,
  "nbformat_minor": 5
}
