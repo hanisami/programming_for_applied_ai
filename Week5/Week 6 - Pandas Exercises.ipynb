{
 "cells": [
  {
   "cell_type": "code",
   "execution_count": null,
   "id": "1e8353df",
   "metadata": {},
   "outputs": [],
   "source": []
  },
  {
   "cell_type": "markdown",
   "id": "1fd8104b",
   "metadata": {},
   "source": [
    "### Read the data in pandas format"
   ]
  },
  {
   "cell_type": "code",
   "execution_count": null,
   "id": "205af64b",
   "metadata": {},
   "outputs": [],
   "source": []
  },
  {
   "cell_type": "markdown",
   "id": "9da3f78b",
   "metadata": {},
   "source": [
    "### Display the first five rows in the dataset"
   ]
  },
  {
   "cell_type": "code",
   "execution_count": null,
   "id": "f65334e1",
   "metadata": {},
   "outputs": [],
   "source": []
  },
  {
   "cell_type": "markdown",
   "id": "60dc588f",
   "metadata": {},
   "source": [
    "### Display the shape of the dataset"
   ]
  },
  {
   "cell_type": "code",
   "execution_count": null,
   "id": "a97c7b3d",
   "metadata": {},
   "outputs": [],
   "source": []
  },
  {
   "cell_type": "markdown",
   "id": "3f0c1629",
   "metadata": {},
   "source": [
    "### Print information about the dataframe"
   ]
  },
  {
   "cell_type": "code",
   "execution_count": null,
   "id": "d4b46be2",
   "metadata": {},
   "outputs": [],
   "source": []
  },
  {
   "cell_type": "markdown",
   "id": "fe6a9e4f",
   "metadata": {},
   "source": [
    "### Check if there is any null values in the dataset and count them"
   ]
  },
  {
   "cell_type": "code",
   "execution_count": null,
   "id": "1d65fc00",
   "metadata": {},
   "outputs": [],
   "source": []
  },
  {
   "cell_type": "markdown",
   "id": "d0b59468",
   "metadata": {},
   "source": [
    "### Print statistical information about each column in the dataset, including the count, mean, std, min, and max"
   ]
  },
  {
   "cell_type": "code",
   "execution_count": null,
   "id": "a102a0af",
   "metadata": {},
   "outputs": [],
   "source": []
  },
  {
   "cell_type": "markdown",
   "id": "2ef2ab4f",
   "metadata": {},
   "source": [
    "### Print the correlation table between the columns in the dataset"
   ]
  },
  {
   "cell_type": "code",
   "execution_count": null,
   "id": "a41182c8",
   "metadata": {},
   "outputs": [],
   "source": []
  },
  {
   "cell_type": "markdown",
   "id": "e9889999",
   "metadata": {},
   "source": [
    "### Example 1: Counting Occurrences of Each Chest Pain Type"
   ]
  },
  {
   "cell_type": "markdown",
   "id": "a3230218",
   "metadata": {},
   "source": [
    "Explanation: In this example, we're creating a list of chest_pain_counts to keep track of how many times each chest pain type appears in the dataset. Finally, we print the dictionary containing the counts of each chest pain type."
   ]
  },
  {
   "cell_type": "code",
   "execution_count": null,
   "id": "76d7803f",
   "metadata": {},
   "outputs": [],
   "source": []
  },
  {
   "cell_type": "markdown",
   "id": "59530748",
   "metadata": {},
   "source": [
    "### Example 2: Creating a List of Patients with High Cholesterol"
   ]
  },
  {
   "cell_type": "markdown",
   "id": "2d0e19ff",
   "metadata": {},
   "source": [
    "Explanation: In this example, we're creating a list high_cholesterol_patients to store information about patients with high cholesterol (cholesterol level greater than 200)."
   ]
  },
  {
   "cell_type": "code",
   "execution_count": null,
   "id": "c7d4a52f",
   "metadata": {},
   "outputs": [],
   "source": []
  },
  {
   "cell_type": "markdown",
   "id": "123ffcf3",
   "metadata": {},
   "source": [
    "### Example 3: Calculating Average Max Heart Rate for Male and Female Patients"
   ]
  },
  {
   "cell_type": "markdown",
   "id": "ebd45a09",
   "metadata": {},
   "source": [
    "Explanation: In this example, we're calculating the average maximum heart rate for male and female patients. We use two dictionaries, male_max_hr and female_max_hr, to keep track of the sum of max heart rates and the count of patients for each gender. We iterate through the dataset, convert the 'MaxHR' value to an integer, and based on the patient's sex, update the respective dictionary. After processing all data points, we calculate the averages and print them."
   ]
  },
  {
   "cell_type": "code",
   "execution_count": null,
   "id": "0e0812aa",
   "metadata": {},
   "outputs": [],
   "source": []
  },
  {
   "cell_type": "markdown",
   "id": "d0d4760a",
   "metadata": {},
   "source": [
    "### Example 4: Finding the Patient with the Highest Cholesterol"
   ]
  },
  {
   "cell_type": "markdown",
   "id": "485ee230",
   "metadata": {},
   "source": []
  },
  {
   "cell_type": "code",
   "execution_count": null,
   "id": "59420aef",
   "metadata": {},
   "outputs": [],
   "source": []
  },
  {
   "cell_type": "markdown",
   "id": "d3bd2166",
   "metadata": {},
   "source": [
    "### Example 5: Calculating the Percentage of Patients with Heart Disease"
   ]
  },
  {
   "cell_type": "markdown",
   "id": "0ae27c1b",
   "metadata": {},
   "source": [
    "Explanation: In this example, we calculate the percentage of patients in the dataset who have heart disease. We iterate through the dataset and increment the heart_disease_patients variable whenever we encounter a patient with heart disease ('HeartDisease' equal to '1'). Finally, we calculate the percentage and print it."
   ]
  },
  {
   "cell_type": "code",
   "execution_count": null,
   "id": "cb38b358",
   "metadata": {},
   "outputs": [],
   "source": []
  }
 ],
 "metadata": {
  "kernelspec": {
   "display_name": "Python 3 (ipykernel)",
   "language": "python",
   "name": "python3"
  },
  "language_info": {
   "codemirror_mode": {
    "name": "ipython",
    "version": 3
   },
   "file_extension": ".py",
   "mimetype": "text/x-python",
   "name": "python",
   "nbconvert_exporter": "python",
   "pygments_lexer": "ipython3",
   "version": "3.9.7"
  }
 },
 "nbformat": 4,
 "nbformat_minor": 5
}
