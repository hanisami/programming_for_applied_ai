{
 "cells": [
  {
   "cell_type": "raw",
   "id": "4065cd2c-792c-4271-97e4-d5a6167571ab",
   "metadata": {},
   "source": []
  },
  {
   "cell_type": "markdown",
   "id": "e3fc8603-5c4c-41d4-8d15-b7686776cd3a",
   "metadata": {},
   "source": [
    "<div style=\"background-color: orange\">\n",
    "    <center> <h1> Project 1 Phase 2 </h1> </center>\n",
    "    <center> <h1> FIRSTNAME LASTNAME </h1> </center>\n",
    "</div>"
   ]
  },
  {
   "cell_type": "raw",
   "id": "9429a359-d38c-4f86-82f5-059b9cb2f8a6",
   "metadata": {},
   "source": []
  },
  {
   "cell_type": "markdown",
   "id": "de6796f7-1035-41b3-8f15-5e0d89d09e6f",
   "metadata": {},
   "source": [
    "## This is the Second phase of Programming for Applied AI Project\n",
    "\n",
    "##### In Phase 1 of the project, You have downloaded the Diabetes Prediction dataset and were able to explore and extract statistical information out of it. In phase 2, we continue exploring the dataset through visualization and performing the necessary pre-processing. We are also going to build a machine learning solution for this dataset.\n",
    "\n",
    "##### Don't worry about the Machine Learning aspect of Phase 2. You will be able to work on it after finishing the content of Week 8, where we will learn how to build our first machine learning solution. This part of Phase 2 only includes visualization and pre-processing exercises.\n",
    "\n",
    "##### The dataset can be downloaded from the Project Description Page.\n",
    "\n",
    "##### <span style=\"color:gray\">Hint: Make sure to review this week's course content before working on this project, as the questions presented here are covered in this and previous weeks.</span>\n",
    "\n",
    "##### <span style=\"color:orange\"><i>Disclaimer: This project is designed exclusively for the course and should not be used for real medical purposes. AI can make errors and the medical field is highly sensitive. Thus, designing such an application in practice requires a solid knowledge of the medical and AI fields combined.</i></span>"
   ]
  },
  {
   "cell_type": "markdown",
   "id": "1bc59ade-f960-4ec8-9deb-746032b9c29f",
   "metadata": {},
   "source": [
    "## Fill in the empty cells to answer the questions. You can add more cells if needed.\n",
    "## <span style=\"color:green\">Some questions have dedicated spots for your comments. Make sure to answer them as well.</span>"
   ]
  },
  {
   "cell_type": "markdown",
   "id": "baf7f141-fd03-40a2-ae5e-3181ae21ac18",
   "metadata": {},
   "source": [
    "### Make sure to import the needed libraries by running this cell below. "
   ]
  },
  {
   "cell_type": "code",
   "execution_count": 10,
   "id": "8d6b184b-fef8-4c20-b3ea-3b8397389a8b",
   "metadata": {},
   "outputs": [],
   "source": [
    "# importing libraries :-\n",
    "\n",
    "import pandas as pd\n",
    "import numpy as np\n",
    "import matplotlib.pyplot as plt\n",
    "import seaborn as sns"
   ]
  },
  {
   "cell_type": "markdown",
   "id": "70eac962-cc11-4fef-a263-6a0fed79ac12",
   "metadata": {},
   "source": [
    "### Read the dataset using Pandas and store it in a variable."
   ]
  },
  {
   "cell_type": "markdown",
   "id": "2576dadc",
   "metadata": {},
   "source": [
    "<div style=\"background-color: orange\">\n",
    "    <center> <h3> Part 1 </h3> </center>\n",
    "    <center> <h3> Visualization and Cleaning </h3> </center>\n",
    "</div>"
   ]
  },
  {
   "cell_type": "markdown",
   "id": "b7b14e43-554d-4a59-9a05-162e584b1aeb",
   "metadata": {},
   "source": [
    "#### We will be using this dataframe to perform the visualization and data cleaning"
   ]
  },
  {
   "cell_type": "markdown",
   "id": "5bbfde30-bac0-4355-9e71-ac17223f3967",
   "metadata": {},
   "source": [
    "## <span style=\"color:red\">Question 1</span>\n",
    "### Plot a histogram showing the distribution for the following features present in the dataset: gender, age, hypertension, heart\\_disease, smoking\\_history, HbA1c\\_level, and diabetes.\n",
    "\n",
    "##### hint: use sns.countplot"
   ]
  },
  {
   "cell_type": "code",
   "execution_count": null,
   "id": "761bcb2e",
   "metadata": {},
   "outputs": [],
   "source": []
  },
  {
   "cell_type": "markdown",
   "id": "8e0b455c-3f3d-4051-9765-368ed78ba47d",
   "metadata": {},
   "source": [
    "## <span style=\"color:red\">Question 2</span>\n",
    "### Plot four different histograms showing the combined distribution of the following two features: diabetes and gender, diabetes and hypertension, diabetes and heart disease, and finally diabetes and smoking history.\n",
    "\n",
    "##### hint: use sns.countplot and use the parameter 'hue'"
   ]
  },
  {
   "cell_type": "code",
   "execution_count": null,
   "id": "a15f4e77",
   "metadata": {},
   "outputs": [],
   "source": []
  },
  {
   "cell_type": "markdown",
   "id": "21ad2dad-2416-4127-a402-d63bd0334c87",
   "metadata": {},
   "source": [
    "#### From these visualizations, give a description of the distributions you see."
   ]
  },
  {
   "cell_type": "raw",
   "id": "1c9555f5-6e0d-41ca-91d7-d02ce6ee937d",
   "metadata": {},
   "source": [
    "(answer here by typing your response)"
   ]
  },
  {
   "cell_type": "markdown",
   "id": "1da6ddac-b743-4dc2-acb7-0c16efc2554f",
   "metadata": {},
   "source": [
    "## <span style=\"color:red\">Question 3.a</span>\n",
    "### Now let's create a new feature named \"initial\\_diagnosis\" which categorizes the patients based on their HbA1c\\_level.\n",
    "\n",
    "##### hint: Create an empty list. Then, loop over the elements of data['HbA1c_level']. Afterward, write if, elif, elif blocks to append the category to the empty list. Finally, write the resulting list as a new column in the dataframe (hint: data['column_name']=diagnosing_list)"
   ]
  },
  {
   "cell_type": "code",
   "execution_count": null,
   "id": "8b6394c8",
   "metadata": {},
   "outputs": [],
   "source": []
  },
  {
   "cell_type": "markdown",
   "id": "1d49e1d3",
   "metadata": {},
   "source": [
    "## <span style=\"color:red\">Question 3.b</span>\n",
    "### After you have added the initial\\_diagnosis feature to the dataframe, plot three different histograms showing each of the initial\\_diagnosis categories v.s. if the patient is diabetic or not.\n",
    "\n",
    "##### hint: use sns.countplot with hue='diabetes'"
   ]
  },
  {
   "cell_type": "code",
   "execution_count": null,
   "id": "64a1d71f",
   "metadata": {},
   "outputs": [],
   "source": []
  },
  {
   "cell_type": "markdown",
   "id": "9e1eb2da",
   "metadata": {},
   "source": [
    "## <span style=\"color:red\">Question 3.c</span>\n",
    "### Drop the \"initial\\_diagnosis\" column you created earlier.\n",
    "\n",
    "##### hint: use drop() function"
   ]
  },
  {
   "cell_type": "code",
   "execution_count": null,
   "id": "e39d1dcf",
   "metadata": {},
   "outputs": [],
   "source": []
  },
  {
   "cell_type": "markdown",
   "id": "22dc48ea-a1a0-4553-b55c-8f053f1b8680",
   "metadata": {},
   "source": [
    "## <span style=\"color:red\">Question 4</span>\n",
    "### Now let's do some pre-processing by encoding the categorical variables. Encode the gender and smoking\\_history columns by applying the one-hot-encoding we learned this week.\n",
    "\n",
    "##### hint: use pd.get_dummies"
   ]
  },
  {
   "cell_type": "code",
   "execution_count": null,
   "id": "e83108eb",
   "metadata": {},
   "outputs": [],
   "source": []
  },
  {
   "cell_type": "markdown",
   "id": "9497d308",
   "metadata": {},
   "source": [
    "#### Following the head() display, discuss the change observed in the dataset"
   ]
  },
  {
   "cell_type": "raw",
   "id": "dd0044b5",
   "metadata": {},
   "source": [
    "(answer here by typing your response)"
   ]
  },
  {
   "cell_type": "markdown",
   "id": "cde99241-02fa-4390-837c-b091f86b357d",
   "metadata": {},
   "source": [
    "## <span style=\"color:red\">Question 5</span>\n",
    "### Check for duplicates in the dataset and print their sum."
   ]
  },
  {
   "cell_type": "code",
   "execution_count": null,
   "id": "c0152bdd",
   "metadata": {},
   "outputs": [],
   "source": []
  },
  {
   "cell_type": "markdown",
   "id": "e9d9f4fe",
   "metadata": {},
   "source": [
    "## <span style=\"color:red\">Question 6</span>\n",
    "### If you found any duplicates, drop them."
   ]
  },
  {
   "cell_type": "code",
   "execution_count": null,
   "id": "2405d502",
   "metadata": {},
   "outputs": [],
   "source": []
  },
  {
   "cell_type": "markdown",
   "id": "c6047045-6a85-47b1-b466-03c0205ea7a5",
   "metadata": {},
   "source": [
    "## <span style=\"color:red\">Question 7</span>\n",
    "### Scale all the numeric features using the normalization technique.\n",
    "\n",
    "##### hint: use MinMaxScaler()"
   ]
  },
  {
   "cell_type": "code",
   "execution_count": null,
   "id": "99be8fc5",
   "metadata": {},
   "outputs": [],
   "source": []
  },
  {
   "cell_type": "markdown",
   "id": "ecdbff52",
   "metadata": {},
   "source": [
    "#### Discuss the changes observed after scaling is applied."
   ]
  },
  {
   "cell_type": "raw",
   "id": "39cb350e",
   "metadata": {},
   "source": [
    "(answer here by typing your response)"
   ]
  },
  {
   "cell_type": "markdown",
   "id": "1379a58b",
   "metadata": {},
   "source": [
    "<div style=\"background-color: orange\">\n",
    "    <center> <h3> Part 2 </h3> </center>\n",
    "    <center> <h3> Machine Learning </h3> </center>\n",
    "</div>"
   ]
  },
  {
   "cell_type": "markdown",
   "id": "65044dbf-c451-4021-b5c5-5ed951a65f5f",
   "metadata": {},
   "source": [
    "## <span style=\"color:red\">Question 1</span>\n",
    "### Divide the dataset into 80\\% training and 20\\% testing\n",
    "\n",
    "##### hint: use train_test_splot from sklearn.model_selection"
   ]
  },
  {
   "cell_type": "code",
   "execution_count": null,
   "id": "730865db",
   "metadata": {},
   "outputs": [],
   "source": []
  },
  {
   "cell_type": "markdown",
   "id": "8a50ef9c-ac3a-4812-9fa6-b907ed0e1c5b",
   "metadata": {},
   "source": [
    "## <span style=\"color:red\">Question 2</span>\n",
    "### Create a logistic regression model in one line using Sklearn then train the model on the training dataset\n",
    "\n",
    "##### hint: use LogisticRegression() and the fit() function"
   ]
  },
  {
   "cell_type": "code",
   "execution_count": null,
   "id": "651a3f46",
   "metadata": {},
   "outputs": [],
   "source": []
  },
  {
   "cell_type": "markdown",
   "id": "2b3ac612-ebc1-4075-81f6-bfa4487c8c0d",
   "metadata": {},
   "source": [
    "## <span style=\"color:red\">Question 3</span>\n",
    "### Evaluate the performance of the model on the testing dataset by computing the accuracy"
   ]
  },
  {
   "cell_type": "code",
   "execution_count": null,
   "id": "31d0671c",
   "metadata": {},
   "outputs": [],
   "source": []
  },
  {
   "cell_type": "markdown",
   "id": "b37d48c3",
   "metadata": {},
   "source": [
    "## <span style=\"color:red\">Question 4</span>\n",
    "### Predict if the following patient is diabetic or no:\n",
    "### Female, 48, 0, 1, 'current', 28.4, 6.2, 120\n",
    "\n",
    "##### hint: make sure you do the necessary preprocessing before doing the prediction\n",
    "##### You will face an issue encoding the given data similar to the training data. To train to do a workaround, append the new data on the old data and perform the same preprocessing again: one hot encoding and scaling. \n",
    "##### If you want to fo"
   ]
  }
 ],
 "metadata": {
  "kernelspec": {
   "display_name": "Python 3 (ipykernel)",
   "language": "python",
   "name": "python3"
  },
  "language_info": {
   "codemirror_mode": {
    "name": "ipython",
    "version": 3
   },
   "file_extension": ".py",
   "mimetype": "text/x-python",
   "name": "python",
   "nbconvert_exporter": "python",
   "pygments_lexer": "ipython3",
   "version": "3.9.7"
  }
 },
 "nbformat": 4,
 "nbformat_minor": 5
}
