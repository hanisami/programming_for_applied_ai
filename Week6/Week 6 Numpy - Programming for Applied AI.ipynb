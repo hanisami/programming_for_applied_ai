{
 "cells": [
  {
   "cell_type": "code",
   "execution_count": 2,
   "id": "5b13142c",
   "metadata": {},
   "outputs": [],
   "source": [
    "import numpy as np"
   ]
  },
  {
   "cell_type": "markdown",
   "id": "e2bd3522",
   "metadata": {},
   "source": [
    "### Read the dataset in numpy format"
   ]
  },
  {
   "cell_type": "code",
   "execution_count": 9,
   "id": "2b74a6db",
   "metadata": {},
   "outputs": [],
   "source": [
    "# Define an empty list to store the data\n",
    "data = []\n",
    "\n",
    "# Open the CSV file for reading\n",
    "with open(\"heart_.csv\", \"r\") as file:\n",
    "    # Read the file line by line\n",
    "    next(file)\n",
    "    for line in file:\n",
    "        # Remove trailing newline character and split the line into a list\n",
    "        row = line.strip().split(',')\n",
    "        \n",
    "        # Append the row (list) to the data_list\n",
    "        data.append(row)\n",
    "\n",
    "# Now, data_list contains the CSV data as a list of lists\n",
    "# You can access individual elements like data_list[row_index][column_index]"
   ]
  },
  {
   "cell_type": "markdown",
   "id": "caf458c1",
   "metadata": {},
   "source": [
    "### Question 1"
   ]
  },
  {
   "cell_type": "code",
   "execution_count": 10,
   "id": "52ba42d5",
   "metadata": {},
   "outputs": [],
   "source": [
    "np_data = np.array(data)"
   ]
  },
  {
   "cell_type": "code",
   "execution_count": 11,
   "id": "9cdcaa81",
   "metadata": {
    "scrolled": true
   },
   "outputs": [
    {
     "data": {
      "text/plain": [
       "array([['40', 'M', 'ATA', ..., '0', 'Up', '0'],\n",
       "       ['49', 'F', 'NAP', ..., '1', 'Flat', '1'],\n",
       "       ['37', 'M', 'ATA', ..., '0', 'Up', '0'],\n",
       "       ...,\n",
       "       ['57', 'M', 'ASY', ..., '1.2', 'Flat', '1'],\n",
       "       ['57', 'F', 'ATA', ..., '0', 'Flat', '1'],\n",
       "       ['38', 'M', 'NAP', ..., '0', 'Up', '0']], dtype='<U6')"
      ]
     },
     "execution_count": 11,
     "metadata": {},
     "output_type": "execute_result"
    }
   ],
   "source": [
    "np_data"
   ]
  },
  {
   "cell_type": "markdown",
   "id": "6e153b6f",
   "metadata": {},
   "source": [
    "### Questions 2, 3, 4"
   ]
  },
  {
   "cell_type": "code",
   "execution_count": 13,
   "id": "0080c445",
   "metadata": {},
   "outputs": [
    {
     "name": "stdout",
     "output_type": "stream",
     "text": [
      "496 ASY\n",
      "173 ATA\n",
      "203 NAP\n",
      "46 TA\n"
     ]
    }
   ],
   "source": [
    "chest_pain_column = np_data[:, 2]\n",
    "unique_values, column = np.unique(chest_pain_column, return_counts=True)\n",
    "for index in range(len(column)):\n",
    "    print(column[index], unique_values[index])"
   ]
  },
  {
   "cell_type": "markdown",
   "id": "f0d31b47",
   "metadata": {},
   "source": [
    "### Question 5, 6"
   ]
  },
  {
   "cell_type": "code",
   "execution_count": 21,
   "id": "36f6c921",
   "metadata": {},
   "outputs": [],
   "source": [
    "cholesterol_column = np_data[:, 4]\n",
    "threshold = 360\n",
    "cholesterol_column = cholesterol_column.astype(int)\n",
    "# Create a boolean mask to filter rows\n",
    "mask = cholesterol_column > threshold\n",
    "# Use the boolean mask to filter the rows\n",
    "filtered_data = np_data[mask]"
   ]
  },
  {
   "cell_type": "code",
   "execution_count": 22,
   "id": "882a7d3c",
   "metadata": {
    "scrolled": true
   },
   "outputs": [
    {
     "data": {
      "text/plain": [
       "array([['53', 'F', 'ATA', '113', '468', '0', 'Normal', '127', 'N', '0',\n",
       "        'Up', '0'],\n",
       "       ['53', 'M', 'NAP', '145', '518', '0', 'Normal', '130', 'N', '0',\n",
       "        'Flat', '1'],\n",
       "       ['54', 'M', 'ASY', '150', '365', '0', 'ST', '134', 'N', '1', 'Up',\n",
       "        '0'],\n",
       "       ['44', 'M', 'ASY', '150', '412', '0', 'Normal', '170', 'N', '0',\n",
       "        'Up', '0'],\n",
       "       ['32', 'M', 'ASY', '118', '529', '0', 'Normal', '130', 'N', '0',\n",
       "        'Flat', '1'],\n",
       "       ['40', 'F', 'ASY', '150', '392', '0', 'Normal', '130', 'N', '2',\n",
       "        'Flat', '1'],\n",
       "       ['40', 'M', 'ASY', '120', '466', '1', 'Normal', '152', 'Y', '1',\n",
       "        'Flat', '1'],\n",
       "       ['58', 'F', 'ATA', '180', '393', '0', 'Normal', '110', 'Y', '1',\n",
       "        'Flat', '1'],\n",
       "       ['56', 'M', 'ASY', '170', '388', '0', 'ST', '122', 'Y', '2',\n",
       "        'Flat', '1'],\n",
       "       ['54', 'M', 'ASY', '130', '603', '1', 'Normal', '125', 'Y', '1',\n",
       "        'Flat', '1'],\n",
       "       ['52', 'M', 'ASY', '140', '404', '0', 'Normal', '124', 'Y', '2',\n",
       "        'Flat', '1'],\n",
       "       ['44', 'M', 'ASY', '135', '491', '0', 'Normal', '135', 'N', '0',\n",
       "        'Flat', '1'],\n",
       "       ['55', 'F', 'ATA', '130', '394', '0', 'LVH', '150', 'N', '0',\n",
       "        'Up', '0'],\n",
       "       ['58', 'M', 'ASY', '132', '458', '1', 'Normal', '69', 'N', '1',\n",
       "        'Down', '0'],\n",
       "       ['67', 'M', 'ASY', '160', '384', '1', 'ST', '130', 'Y', '0',\n",
       "        'Flat', '1'],\n",
       "       ['67', 'M', 'ASY', '146', '369', '0', 'Normal', '110', 'Y', '1.9',\n",
       "        'Flat', '1'],\n",
       "       ['58', 'M', 'ASY', '140', '385', '1', 'LVH', '135', 'N', '0.3',\n",
       "        'Up', '0'],\n",
       "       ['67', 'F', 'NAP', '115', '564', '0', 'LVH', '160', 'N', '1.6',\n",
       "        'Flat', '0'],\n",
       "       ['63', 'F', 'ASY', '150', '407', '0', 'LVH', '154', 'N', '4',\n",
       "        'Flat', '1'],\n",
       "       ['65', 'F', 'NAP', '140', '417', '1', 'LVH', '157', 'N', '0.8',\n",
       "        'Up', '0'],\n",
       "       ['56', 'F', 'ASY', '134', '409', '0', 'LVH', '150', 'Y', '1.9',\n",
       "        'Flat', '1'],\n",
       "       ['62', 'F', 'ASY', '140', '394', '0', 'LVH', '157', 'N', '1.2',\n",
       "        'Flat', '0']], dtype='<U6')"
      ]
     },
     "execution_count": 22,
     "metadata": {},
     "output_type": "execute_result"
    }
   ],
   "source": [
    "filtered_data"
   ]
  },
  {
   "cell_type": "markdown",
   "id": "fd12a341",
   "metadata": {},
   "source": [
    "### Question 7, 8, 9"
   ]
  },
  {
   "cell_type": "code",
   "execution_count": 50,
   "id": "e6363de4",
   "metadata": {},
   "outputs": [
    {
     "name": "stdout",
     "output_type": "stream",
     "text": [
      "Average Heart Rate for Males (M): 134.32551724137932\n",
      "Average Heart Rate for Females (F): 146.13989637305698\n"
     ]
    }
   ],
   "source": [
    "gender_column = np_data[:, 1]\n",
    "heart_rate_column = np_data[:, 7]\n",
    "\n",
    "male_mask = gender_column == 'M'\n",
    "female_mask = gender_column == 'F'\n",
    "\n",
    "average_heart_rate_male = np.mean(heart_rate_column[male_mask].astype(float))\n",
    "average_heart_rate_female = np.mean(heart_rate_column[female_mask].astype(float))\n",
    "\n",
    "print(f'Average Heart Rate for Males (M): {average_heart_rate_male}')\n",
    "print(f'Average Heart Rate for Females (F): {average_heart_rate_female}')"
   ]
  },
  {
   "cell_type": "markdown",
   "id": "0009b505",
   "metadata": {},
   "source": [
    "### Question 10, 11, 12"
   ]
  },
  {
   "cell_type": "code",
   "execution_count": 58,
   "id": "1f195e84",
   "metadata": {},
   "outputs": [
    {
     "name": "stdout",
     "output_type": "stream",
     "text": [
      "Patient with the Highest Cholesterol: ['54' 'M' 'ASY' '130' '603' '1' 'Normal' '125' 'Y' '1' 'Flat' '1']\n"
     ]
    }
   ],
   "source": [
    "age_bins = [18, 30, 40, 50, 60, np.inf]  # np.inf represents positive infinity\n",
    "age_labels = ['18-30', '31-40', '41-50', '51-60', '61+']\n",
    "age_column = np_data[:, 0].astype(int)\n",
    "\n",
    "age_group_indices = np.digitize(age_column, age_bins)\n",
    "\n",
    "grouped_patients = []\n",
    "\n",
    "age_groups = np.array(age_labels)[age_group_indices - 1]\n",
    "\n",
    "unique_age_groups = np.unique(age_groups)\n",
    "\n",
    "for label in unique_age_groups:\n",
    "    mask = age_groups == label\n",
    "    grouped_patients.append(np_data[mask])\n",
    "\n",
    "print(grouped_patients)"
   ]
  }
 ],
 "metadata": {
  "kernelspec": {
   "display_name": "Python 3 (ipykernel)",
   "language": "python",
   "name": "python3"
  },
  "language_info": {
   "codemirror_mode": {
    "name": "ipython",
    "version": 3
   },
   "file_extension": ".py",
   "mimetype": "text/x-python",
   "name": "python",
   "nbconvert_exporter": "python",
   "pygments_lexer": "ipython3",
   "version": "3.9.7"
  }
 },
 "nbformat": 4,
 "nbformat_minor": 5
}
