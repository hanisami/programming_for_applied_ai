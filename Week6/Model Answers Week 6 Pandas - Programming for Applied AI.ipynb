{
 "cells": [
  {
   "cell_type": "code",
   "execution_count": 1,
   "id": "82540662",
   "metadata": {},
   "outputs": [],
   "source": [
    "import pandas as pd"
   ]
  },
  {
   "cell_type": "markdown",
   "id": "5c0f7695",
   "metadata": {},
   "source": [
    "### Read the data in pandas format"
   ]
  },
  {
   "cell_type": "code",
   "execution_count": 3,
   "id": "259e912c",
   "metadata": {},
   "outputs": [],
   "source": [
    "df = pd.read_csv('heart.csv')"
   ]
  },
  {
   "cell_type": "markdown",
   "id": "6e197f45",
   "metadata": {},
   "source": [
    "### Display the first five rows in the dataset"
   ]
  },
  {
   "cell_type": "code",
   "execution_count": 5,
   "id": "01a093ef",
   "metadata": {},
   "outputs": [
    {
     "data": {
      "text/html": [
       "<div>\n",
       "<style scoped>\n",
       "    .dataframe tbody tr th:only-of-type {\n",
       "        vertical-align: middle;\n",
       "    }\n",
       "\n",
       "    .dataframe tbody tr th {\n",
       "        vertical-align: top;\n",
       "    }\n",
       "\n",
       "    .dataframe thead th {\n",
       "        text-align: right;\n",
       "    }\n",
       "</style>\n",
       "<table border=\"1\" class=\"dataframe\">\n",
       "  <thead>\n",
       "    <tr style=\"text-align: right;\">\n",
       "      <th></th>\n",
       "      <th>Age</th>\n",
       "      <th>Sex</th>\n",
       "      <th>ChestPainType</th>\n",
       "      <th>RestingBP</th>\n",
       "      <th>Cholesterol</th>\n",
       "      <th>FastingBS</th>\n",
       "      <th>RestingECG</th>\n",
       "      <th>MaxHR</th>\n",
       "      <th>ExerciseAngina</th>\n",
       "      <th>Oldpeak</th>\n",
       "      <th>ST_Slope</th>\n",
       "      <th>HeartDisease</th>\n",
       "    </tr>\n",
       "  </thead>\n",
       "  <tbody>\n",
       "    <tr>\n",
       "      <th>0</th>\n",
       "      <td>40</td>\n",
       "      <td>M</td>\n",
       "      <td>ATA</td>\n",
       "      <td>140</td>\n",
       "      <td>289</td>\n",
       "      <td>0</td>\n",
       "      <td>Normal</td>\n",
       "      <td>172</td>\n",
       "      <td>N</td>\n",
       "      <td>0.0</td>\n",
       "      <td>Up</td>\n",
       "      <td>0</td>\n",
       "    </tr>\n",
       "    <tr>\n",
       "      <th>1</th>\n",
       "      <td>49</td>\n",
       "      <td>F</td>\n",
       "      <td>NAP</td>\n",
       "      <td>160</td>\n",
       "      <td>180</td>\n",
       "      <td>0</td>\n",
       "      <td>Normal</td>\n",
       "      <td>156</td>\n",
       "      <td>N</td>\n",
       "      <td>1.0</td>\n",
       "      <td>Flat</td>\n",
       "      <td>1</td>\n",
       "    </tr>\n",
       "    <tr>\n",
       "      <th>2</th>\n",
       "      <td>37</td>\n",
       "      <td>M</td>\n",
       "      <td>ATA</td>\n",
       "      <td>130</td>\n",
       "      <td>283</td>\n",
       "      <td>0</td>\n",
       "      <td>ST</td>\n",
       "      <td>98</td>\n",
       "      <td>N</td>\n",
       "      <td>0.0</td>\n",
       "      <td>Up</td>\n",
       "      <td>0</td>\n",
       "    </tr>\n",
       "    <tr>\n",
       "      <th>3</th>\n",
       "      <td>48</td>\n",
       "      <td>F</td>\n",
       "      <td>ASY</td>\n",
       "      <td>138</td>\n",
       "      <td>214</td>\n",
       "      <td>0</td>\n",
       "      <td>Normal</td>\n",
       "      <td>108</td>\n",
       "      <td>Y</td>\n",
       "      <td>1.5</td>\n",
       "      <td>Flat</td>\n",
       "      <td>1</td>\n",
       "    </tr>\n",
       "    <tr>\n",
       "      <th>4</th>\n",
       "      <td>54</td>\n",
       "      <td>M</td>\n",
       "      <td>NAP</td>\n",
       "      <td>150</td>\n",
       "      <td>195</td>\n",
       "      <td>0</td>\n",
       "      <td>Normal</td>\n",
       "      <td>122</td>\n",
       "      <td>N</td>\n",
       "      <td>0.0</td>\n",
       "      <td>Up</td>\n",
       "      <td>0</td>\n",
       "    </tr>\n",
       "  </tbody>\n",
       "</table>\n",
       "</div>"
      ],
      "text/plain": [
       "   Age Sex ChestPainType  RestingBP  Cholesterol  FastingBS RestingECG  MaxHR  \\\n",
       "0   40   M           ATA        140          289          0     Normal    172   \n",
       "1   49   F           NAP        160          180          0     Normal    156   \n",
       "2   37   M           ATA        130          283          0         ST     98   \n",
       "3   48   F           ASY        138          214          0     Normal    108   \n",
       "4   54   M           NAP        150          195          0     Normal    122   \n",
       "\n",
       "  ExerciseAngina  Oldpeak ST_Slope  HeartDisease  \n",
       "0              N      0.0       Up             0  \n",
       "1              N      1.0     Flat             1  \n",
       "2              N      0.0       Up             0  \n",
       "3              Y      1.5     Flat             1  \n",
       "4              N      0.0       Up             0  "
      ]
     },
     "execution_count": 5,
     "metadata": {},
     "output_type": "execute_result"
    }
   ],
   "source": [
    "df.head()"
   ]
  },
  {
   "cell_type": "markdown",
   "id": "48af6e28",
   "metadata": {},
   "source": [
    "### Display the shape of the dataset"
   ]
  },
  {
   "cell_type": "code",
   "execution_count": 6,
   "id": "9afb0f83",
   "metadata": {},
   "outputs": [
    {
     "data": {
      "text/plain": [
       "(918, 12)"
      ]
     },
     "execution_count": 6,
     "metadata": {},
     "output_type": "execute_result"
    }
   ],
   "source": [
    "df.shape"
   ]
  },
  {
   "cell_type": "markdown",
   "id": "2026a429",
   "metadata": {},
   "source": [
    "### Print information about the dataframe"
   ]
  },
  {
   "cell_type": "code",
   "execution_count": 7,
   "id": "26f85722",
   "metadata": {},
   "outputs": [
    {
     "name": "stdout",
     "output_type": "stream",
     "text": [
      "<class 'pandas.core.frame.DataFrame'>\n",
      "RangeIndex: 918 entries, 0 to 917\n",
      "Data columns (total 12 columns):\n",
      " #   Column          Non-Null Count  Dtype  \n",
      "---  ------          --------------  -----  \n",
      " 0   Age             918 non-null    int64  \n",
      " 1   Sex             918 non-null    object \n",
      " 2   ChestPainType   918 non-null    object \n",
      " 3   RestingBP       918 non-null    int64  \n",
      " 4   Cholesterol     918 non-null    int64  \n",
      " 5   FastingBS       918 non-null    int64  \n",
      " 6   RestingECG      918 non-null    object \n",
      " 7   MaxHR           918 non-null    int64  \n",
      " 8   ExerciseAngina  918 non-null    object \n",
      " 9   Oldpeak         918 non-null    float64\n",
      " 10  ST_Slope        918 non-null    object \n",
      " 11  HeartDisease    918 non-null    int64  \n",
      "dtypes: float64(1), int64(6), object(5)\n",
      "memory usage: 86.2+ KB\n"
     ]
    }
   ],
   "source": [
    "df.info()"
   ]
  },
  {
   "cell_type": "markdown",
   "id": "1e13bdc2",
   "metadata": {},
   "source": [
    "### Check if there is any null values in the dataset and count them"
   ]
  },
  {
   "cell_type": "code",
   "execution_count": 8,
   "id": "b5dcfe7f",
   "metadata": {},
   "outputs": [
    {
     "data": {
      "text/plain": [
       "Age               0\n",
       "Sex               0\n",
       "ChestPainType     0\n",
       "RestingBP         0\n",
       "Cholesterol       0\n",
       "FastingBS         0\n",
       "RestingECG        0\n",
       "MaxHR             0\n",
       "ExerciseAngina    0\n",
       "Oldpeak           0\n",
       "ST_Slope          0\n",
       "HeartDisease      0\n",
       "dtype: int64"
      ]
     },
     "execution_count": 8,
     "metadata": {},
     "output_type": "execute_result"
    }
   ],
   "source": [
    "df.isnull().sum()"
   ]
  },
  {
   "cell_type": "markdown",
   "id": "4b87a58f",
   "metadata": {},
   "source": [
    "### Print statistical information about each column in the dataset, including the count, mean, std, min, and max"
   ]
  },
  {
   "cell_type": "code",
   "execution_count": 9,
   "id": "e0a3c658",
   "metadata": {},
   "outputs": [
    {
     "data": {
      "text/html": [
       "<div>\n",
       "<style scoped>\n",
       "    .dataframe tbody tr th:only-of-type {\n",
       "        vertical-align: middle;\n",
       "    }\n",
       "\n",
       "    .dataframe tbody tr th {\n",
       "        vertical-align: top;\n",
       "    }\n",
       "\n",
       "    .dataframe thead th {\n",
       "        text-align: right;\n",
       "    }\n",
       "</style>\n",
       "<table border=\"1\" class=\"dataframe\">\n",
       "  <thead>\n",
       "    <tr style=\"text-align: right;\">\n",
       "      <th></th>\n",
       "      <th>Age</th>\n",
       "      <th>RestingBP</th>\n",
       "      <th>Cholesterol</th>\n",
       "      <th>FastingBS</th>\n",
       "      <th>MaxHR</th>\n",
       "      <th>Oldpeak</th>\n",
       "      <th>HeartDisease</th>\n",
       "    </tr>\n",
       "  </thead>\n",
       "  <tbody>\n",
       "    <tr>\n",
       "      <th>count</th>\n",
       "      <td>918.000000</td>\n",
       "      <td>918.000000</td>\n",
       "      <td>918.000000</td>\n",
       "      <td>918.000000</td>\n",
       "      <td>918.000000</td>\n",
       "      <td>918.000000</td>\n",
       "      <td>918.000000</td>\n",
       "    </tr>\n",
       "    <tr>\n",
       "      <th>mean</th>\n",
       "      <td>53.510893</td>\n",
       "      <td>132.396514</td>\n",
       "      <td>198.799564</td>\n",
       "      <td>0.233115</td>\n",
       "      <td>136.809368</td>\n",
       "      <td>0.887364</td>\n",
       "      <td>0.553377</td>\n",
       "    </tr>\n",
       "    <tr>\n",
       "      <th>std</th>\n",
       "      <td>9.432617</td>\n",
       "      <td>18.514154</td>\n",
       "      <td>109.384145</td>\n",
       "      <td>0.423046</td>\n",
       "      <td>25.460334</td>\n",
       "      <td>1.066570</td>\n",
       "      <td>0.497414</td>\n",
       "    </tr>\n",
       "    <tr>\n",
       "      <th>min</th>\n",
       "      <td>28.000000</td>\n",
       "      <td>0.000000</td>\n",
       "      <td>0.000000</td>\n",
       "      <td>0.000000</td>\n",
       "      <td>60.000000</td>\n",
       "      <td>-2.600000</td>\n",
       "      <td>0.000000</td>\n",
       "    </tr>\n",
       "    <tr>\n",
       "      <th>25%</th>\n",
       "      <td>47.000000</td>\n",
       "      <td>120.000000</td>\n",
       "      <td>173.250000</td>\n",
       "      <td>0.000000</td>\n",
       "      <td>120.000000</td>\n",
       "      <td>0.000000</td>\n",
       "      <td>0.000000</td>\n",
       "    </tr>\n",
       "    <tr>\n",
       "      <th>50%</th>\n",
       "      <td>54.000000</td>\n",
       "      <td>130.000000</td>\n",
       "      <td>223.000000</td>\n",
       "      <td>0.000000</td>\n",
       "      <td>138.000000</td>\n",
       "      <td>0.600000</td>\n",
       "      <td>1.000000</td>\n",
       "    </tr>\n",
       "    <tr>\n",
       "      <th>75%</th>\n",
       "      <td>60.000000</td>\n",
       "      <td>140.000000</td>\n",
       "      <td>267.000000</td>\n",
       "      <td>0.000000</td>\n",
       "      <td>156.000000</td>\n",
       "      <td>1.500000</td>\n",
       "      <td>1.000000</td>\n",
       "    </tr>\n",
       "    <tr>\n",
       "      <th>max</th>\n",
       "      <td>77.000000</td>\n",
       "      <td>200.000000</td>\n",
       "      <td>603.000000</td>\n",
       "      <td>1.000000</td>\n",
       "      <td>202.000000</td>\n",
       "      <td>6.200000</td>\n",
       "      <td>1.000000</td>\n",
       "    </tr>\n",
       "  </tbody>\n",
       "</table>\n",
       "</div>"
      ],
      "text/plain": [
       "              Age   RestingBP  Cholesterol   FastingBS       MaxHR  \\\n",
       "count  918.000000  918.000000   918.000000  918.000000  918.000000   \n",
       "mean    53.510893  132.396514   198.799564    0.233115  136.809368   \n",
       "std      9.432617   18.514154   109.384145    0.423046   25.460334   \n",
       "min     28.000000    0.000000     0.000000    0.000000   60.000000   \n",
       "25%     47.000000  120.000000   173.250000    0.000000  120.000000   \n",
       "50%     54.000000  130.000000   223.000000    0.000000  138.000000   \n",
       "75%     60.000000  140.000000   267.000000    0.000000  156.000000   \n",
       "max     77.000000  200.000000   603.000000    1.000000  202.000000   \n",
       "\n",
       "          Oldpeak  HeartDisease  \n",
       "count  918.000000    918.000000  \n",
       "mean     0.887364      0.553377  \n",
       "std      1.066570      0.497414  \n",
       "min     -2.600000      0.000000  \n",
       "25%      0.000000      0.000000  \n",
       "50%      0.600000      1.000000  \n",
       "75%      1.500000      1.000000  \n",
       "max      6.200000      1.000000  "
      ]
     },
     "execution_count": 9,
     "metadata": {},
     "output_type": "execute_result"
    }
   ],
   "source": [
    "df.describe()"
   ]
  },
  {
   "cell_type": "markdown",
   "id": "14774947",
   "metadata": {},
   "source": [
    "### Print the correlation table between the columns in the dataset"
   ]
  },
  {
   "cell_type": "code",
   "execution_count": 10,
   "id": "330f6619",
   "metadata": {},
   "outputs": [
    {
     "data": {
      "text/html": [
       "<div>\n",
       "<style scoped>\n",
       "    .dataframe tbody tr th:only-of-type {\n",
       "        vertical-align: middle;\n",
       "    }\n",
       "\n",
       "    .dataframe tbody tr th {\n",
       "        vertical-align: top;\n",
       "    }\n",
       "\n",
       "    .dataframe thead th {\n",
       "        text-align: right;\n",
       "    }\n",
       "</style>\n",
       "<table border=\"1\" class=\"dataframe\">\n",
       "  <thead>\n",
       "    <tr style=\"text-align: right;\">\n",
       "      <th></th>\n",
       "      <th>Age</th>\n",
       "      <th>RestingBP</th>\n",
       "      <th>Cholesterol</th>\n",
       "      <th>FastingBS</th>\n",
       "      <th>MaxHR</th>\n",
       "      <th>Oldpeak</th>\n",
       "      <th>HeartDisease</th>\n",
       "    </tr>\n",
       "  </thead>\n",
       "  <tbody>\n",
       "    <tr>\n",
       "      <th>Age</th>\n",
       "      <td>1.000000</td>\n",
       "      <td>0.254399</td>\n",
       "      <td>-0.095282</td>\n",
       "      <td>0.198039</td>\n",
       "      <td>-0.382045</td>\n",
       "      <td>0.258612</td>\n",
       "      <td>0.282039</td>\n",
       "    </tr>\n",
       "    <tr>\n",
       "      <th>RestingBP</th>\n",
       "      <td>0.254399</td>\n",
       "      <td>1.000000</td>\n",
       "      <td>0.100893</td>\n",
       "      <td>0.070193</td>\n",
       "      <td>-0.112135</td>\n",
       "      <td>0.164803</td>\n",
       "      <td>0.107589</td>\n",
       "    </tr>\n",
       "    <tr>\n",
       "      <th>Cholesterol</th>\n",
       "      <td>-0.095282</td>\n",
       "      <td>0.100893</td>\n",
       "      <td>1.000000</td>\n",
       "      <td>-0.260974</td>\n",
       "      <td>0.235792</td>\n",
       "      <td>0.050148</td>\n",
       "      <td>-0.232741</td>\n",
       "    </tr>\n",
       "    <tr>\n",
       "      <th>FastingBS</th>\n",
       "      <td>0.198039</td>\n",
       "      <td>0.070193</td>\n",
       "      <td>-0.260974</td>\n",
       "      <td>1.000000</td>\n",
       "      <td>-0.131438</td>\n",
       "      <td>0.052698</td>\n",
       "      <td>0.267291</td>\n",
       "    </tr>\n",
       "    <tr>\n",
       "      <th>MaxHR</th>\n",
       "      <td>-0.382045</td>\n",
       "      <td>-0.112135</td>\n",
       "      <td>0.235792</td>\n",
       "      <td>-0.131438</td>\n",
       "      <td>1.000000</td>\n",
       "      <td>-0.160691</td>\n",
       "      <td>-0.400421</td>\n",
       "    </tr>\n",
       "    <tr>\n",
       "      <th>Oldpeak</th>\n",
       "      <td>0.258612</td>\n",
       "      <td>0.164803</td>\n",
       "      <td>0.050148</td>\n",
       "      <td>0.052698</td>\n",
       "      <td>-0.160691</td>\n",
       "      <td>1.000000</td>\n",
       "      <td>0.403951</td>\n",
       "    </tr>\n",
       "    <tr>\n",
       "      <th>HeartDisease</th>\n",
       "      <td>0.282039</td>\n",
       "      <td>0.107589</td>\n",
       "      <td>-0.232741</td>\n",
       "      <td>0.267291</td>\n",
       "      <td>-0.400421</td>\n",
       "      <td>0.403951</td>\n",
       "      <td>1.000000</td>\n",
       "    </tr>\n",
       "  </tbody>\n",
       "</table>\n",
       "</div>"
      ],
      "text/plain": [
       "                   Age  RestingBP  Cholesterol  FastingBS     MaxHR   Oldpeak  \\\n",
       "Age           1.000000   0.254399    -0.095282   0.198039 -0.382045  0.258612   \n",
       "RestingBP     0.254399   1.000000     0.100893   0.070193 -0.112135  0.164803   \n",
       "Cholesterol  -0.095282   0.100893     1.000000  -0.260974  0.235792  0.050148   \n",
       "FastingBS     0.198039   0.070193    -0.260974   1.000000 -0.131438  0.052698   \n",
       "MaxHR        -0.382045  -0.112135     0.235792  -0.131438  1.000000 -0.160691   \n",
       "Oldpeak       0.258612   0.164803     0.050148   0.052698 -0.160691  1.000000   \n",
       "HeartDisease  0.282039   0.107589    -0.232741   0.267291 -0.400421  0.403951   \n",
       "\n",
       "              HeartDisease  \n",
       "Age               0.282039  \n",
       "RestingBP         0.107589  \n",
       "Cholesterol      -0.232741  \n",
       "FastingBS         0.267291  \n",
       "MaxHR            -0.400421  \n",
       "Oldpeak           0.403951  \n",
       "HeartDisease      1.000000  "
      ]
     },
     "execution_count": 10,
     "metadata": {},
     "output_type": "execute_result"
    }
   ],
   "source": [
    "df.corr()"
   ]
  },
  {
   "cell_type": "markdown",
   "id": "204271e9",
   "metadata": {},
   "source": [
    "### Example 1: Counting Occurrences of Each Chest Pain Type"
   ]
  },
  {
   "cell_type": "markdown",
   "id": "c04db437",
   "metadata": {},
   "source": [
    "Explanation: In this example, we're creating a dictionary chest_pain_counts to keep track of how many times each chest pain type appears in the dataset. We iterate through each data point and extract the 'ChestPainType' value. If the chest pain type is already in the dictionary, we increment its count; otherwise, we add it to the dictionary with a count of 1. Finally, we print the dictionary containing the counts of each chest pain type."
   ]
  },
  {
   "cell_type": "code",
   "execution_count": 12,
   "id": "4400de59",
   "metadata": {},
   "outputs": [
    {
     "data": {
      "text/plain": [
       "ASY    496\n",
       "NAP    203\n",
       "ATA    173\n",
       "TA      46\n",
       "Name: ChestPainType, dtype: int64"
      ]
     },
     "execution_count": 12,
     "metadata": {},
     "output_type": "execute_result"
    }
   ],
   "source": [
    "df['ChestPainType'].value_counts()"
   ]
  },
  {
   "cell_type": "markdown",
   "id": "c92d9afd",
   "metadata": {},
   "source": [
    "### Example 2: Creating a Dictionary of Patients with High Cholesterol"
   ]
  },
  {
   "cell_type": "markdown",
   "id": "5ca0a6db",
   "metadata": {},
   "source": [
    "Explanation: In this example, we're creating a dictionary high_cholesterol_patients to store information about patients with high cholesterol (cholesterol level greater than 200). We iterate through each data point, convert the 'Cholesterol' value to an integer, and check if it's greater than 200. If it is, we add the entire data point to the dictionary, using the patient's age as the key."
   ]
  },
  {
   "cell_type": "code",
   "execution_count": 16,
   "id": "445ad6e2",
   "metadata": {},
   "outputs": [
    {
     "data": {
      "text/html": [
       "<div>\n",
       "<style scoped>\n",
       "    .dataframe tbody tr th:only-of-type {\n",
       "        vertical-align: middle;\n",
       "    }\n",
       "\n",
       "    .dataframe tbody tr th {\n",
       "        vertical-align: top;\n",
       "    }\n",
       "\n",
       "    .dataframe thead th {\n",
       "        text-align: right;\n",
       "    }\n",
       "</style>\n",
       "<table border=\"1\" class=\"dataframe\">\n",
       "  <thead>\n",
       "    <tr style=\"text-align: right;\">\n",
       "      <th></th>\n",
       "      <th>Age</th>\n",
       "      <th>Sex</th>\n",
       "      <th>ChestPainType</th>\n",
       "      <th>RestingBP</th>\n",
       "      <th>Cholesterol</th>\n",
       "      <th>FastingBS</th>\n",
       "      <th>RestingECG</th>\n",
       "      <th>MaxHR</th>\n",
       "      <th>ExerciseAngina</th>\n",
       "      <th>Oldpeak</th>\n",
       "      <th>ST_Slope</th>\n",
       "      <th>HeartDisease</th>\n",
       "    </tr>\n",
       "  </thead>\n",
       "  <tbody>\n",
       "    <tr>\n",
       "      <th>28</th>\n",
       "      <td>53</td>\n",
       "      <td>F</td>\n",
       "      <td>ATA</td>\n",
       "      <td>113</td>\n",
       "      <td>468</td>\n",
       "      <td>0</td>\n",
       "      <td>Normal</td>\n",
       "      <td>127</td>\n",
       "      <td>N</td>\n",
       "      <td>0.0</td>\n",
       "      <td>Up</td>\n",
       "      <td>0</td>\n",
       "    </tr>\n",
       "    <tr>\n",
       "      <th>30</th>\n",
       "      <td>53</td>\n",
       "      <td>M</td>\n",
       "      <td>NAP</td>\n",
       "      <td>145</td>\n",
       "      <td>518</td>\n",
       "      <td>0</td>\n",
       "      <td>Normal</td>\n",
       "      <td>130</td>\n",
       "      <td>N</td>\n",
       "      <td>0.0</td>\n",
       "      <td>Flat</td>\n",
       "      <td>1</td>\n",
       "    </tr>\n",
       "    <tr>\n",
       "      <th>58</th>\n",
       "      <td>54</td>\n",
       "      <td>M</td>\n",
       "      <td>ASY</td>\n",
       "      <td>150</td>\n",
       "      <td>365</td>\n",
       "      <td>0</td>\n",
       "      <td>ST</td>\n",
       "      <td>134</td>\n",
       "      <td>N</td>\n",
       "      <td>1.0</td>\n",
       "      <td>Up</td>\n",
       "      <td>0</td>\n",
       "    </tr>\n",
       "    <tr>\n",
       "      <th>69</th>\n",
       "      <td>44</td>\n",
       "      <td>M</td>\n",
       "      <td>ASY</td>\n",
       "      <td>150</td>\n",
       "      <td>412</td>\n",
       "      <td>0</td>\n",
       "      <td>Normal</td>\n",
       "      <td>170</td>\n",
       "      <td>N</td>\n",
       "      <td>0.0</td>\n",
       "      <td>Up</td>\n",
       "      <td>0</td>\n",
       "    </tr>\n",
       "    <tr>\n",
       "      <th>76</th>\n",
       "      <td>32</td>\n",
       "      <td>M</td>\n",
       "      <td>ASY</td>\n",
       "      <td>118</td>\n",
       "      <td>529</td>\n",
       "      <td>0</td>\n",
       "      <td>Normal</td>\n",
       "      <td>130</td>\n",
       "      <td>N</td>\n",
       "      <td>0.0</td>\n",
       "      <td>Flat</td>\n",
       "      <td>1</td>\n",
       "    </tr>\n",
       "  </tbody>\n",
       "</table>\n",
       "</div>"
      ],
      "text/plain": [
       "    Age Sex ChestPainType  RestingBP  Cholesterol  FastingBS RestingECG  \\\n",
       "28   53   F           ATA        113          468          0     Normal   \n",
       "30   53   M           NAP        145          518          0     Normal   \n",
       "58   54   M           ASY        150          365          0         ST   \n",
       "69   44   M           ASY        150          412          0     Normal   \n",
       "76   32   M           ASY        118          529          0     Normal   \n",
       "\n",
       "    MaxHR ExerciseAngina  Oldpeak ST_Slope  HeartDisease  \n",
       "28    127              N      0.0       Up             0  \n",
       "30    130              N      0.0     Flat             1  \n",
       "58    134              N      1.0       Up             0  \n",
       "69    170              N      0.0       Up             0  \n",
       "76    130              N      0.0     Flat             1  "
      ]
     },
     "execution_count": 16,
     "metadata": {},
     "output_type": "execute_result"
    }
   ],
   "source": [
    "# Create a new DataFrame with patients whose cholesterol is higher than the threshold\n",
    "cholesterol_threshold = 360\n",
    "filtered_df = df[df['Cholesterol'] > cholesterol_threshold]\n",
    "filtered_df.head()"
   ]
  },
  {
   "cell_type": "markdown",
   "id": "8ee11c24",
   "metadata": {},
   "source": [
    "### Example 3: Calculating Average Max Heart Rate for Male and Female Patients"
   ]
  },
  {
   "cell_type": "markdown",
   "id": "7982f1ea",
   "metadata": {},
   "source": [
    "Explanation: In this example, we're calculating the average maximum heart rate for male and female patients. We use two dictionaries, male_max_hr and female_max_hr, to keep track of the sum of max heart rates and the count of patients for each gender. We iterate through the dataset, convert the 'MaxHR' value to an integer, and based on the patient's sex, update the respective dictionary. After processing all data points, we calculate the averages and print them."
   ]
  },
  {
   "cell_type": "code",
   "execution_count": 17,
   "id": "dea966fb",
   "metadata": {},
   "outputs": [
    {
     "name": "stdout",
     "output_type": "stream",
     "text": [
      "Sex\n",
      "F    146.139896\n",
      "M    134.325517\n",
      "Name: MaxHR, dtype: float64\n"
     ]
    }
   ],
   "source": [
    "# Group the DataFrame by the 'gender' column\n",
    "grouped = df.groupby('Sex')\n",
    "# Calculate the average max heart rate for male and female patients\n",
    "average_max_heart_rate = grouped['MaxHR'].mean()\n",
    "print(average_max_heart_rate)"
   ]
  },
  {
   "cell_type": "markdown",
   "id": "3064504e",
   "metadata": {},
   "source": [
    "### Example 4: Finding the Patient with the Highest Cholesterol"
   ]
  },
  {
   "cell_type": "markdown",
   "id": "32b6fcbd",
   "metadata": {},
   "source": [
    "Explanation: In this example, we find the patient with the highest cholesterol level by iterating through the dataset and comparing each patient's cholesterol level to the highest recorded so far. We update the highest_cholesterol variable and store the entire data point for the patient with the highest cholesterol in patient_with_highest_cholesterol."
   ]
  },
  {
   "cell_type": "code",
   "execution_count": 19,
   "id": "9207d7f7",
   "metadata": {},
   "outputs": [
    {
     "name": "stdout",
     "output_type": "stream",
     "text": [
      "Age                   54\n",
      "Sex                    M\n",
      "ChestPainType        ASY\n",
      "RestingBP            130\n",
      "Cholesterol          603\n",
      "FastingBS              1\n",
      "RestingECG        Normal\n",
      "MaxHR                125\n",
      "ExerciseAngina         Y\n",
      "Oldpeak              1.0\n",
      "ST_Slope            Flat\n",
      "HeartDisease           1\n",
      "Name: 149, dtype: object\n"
     ]
    }
   ],
   "source": [
    "# Find the index of the row with the highest cholesterol level\n",
    "highest_cholesterol_index = df['Cholesterol'].idxmax()\n",
    "\n",
    "# Get the patient with the highest cholesterol level\n",
    "patient_with_highest_cholesterol = df.loc[highest_cholesterol_index]\n",
    "\n",
    "print(patient_with_highest_cholesterol)"
   ]
  },
  {
   "cell_type": "markdown",
   "id": "e595c023",
   "metadata": {},
   "source": [
    "### Example 5: Grouping Patients by Age Range"
   ]
  },
  {
   "cell_type": "markdown",
   "id": "c839eade",
   "metadata": {},
   "source": [
    "Explanation: In this example, we create a dictionary age_groups to group patients into different age ranges. We iterate through the dataset and based on the patient's age, we append the data point to the corresponding age group list within the dictionary."
   ]
  },
  {
   "cell_type": "code",
   "execution_count": 26,
   "id": "ddb97cdb",
   "metadata": {},
   "outputs": [],
   "source": [
    "# Define the age group bins and labels\n",
    "age_bins = [18, 30, 40, 50, 60, float('inf')]  # 'inf' represents positive infinity\n",
    "age_labels = ['18-30', '31-40', '41-50', '51-60', '61+']\n",
    "\n",
    "# Use pd.cut to create the 'age_group' based on the age bins\n",
    "df['age_group'] = pd.cut(df['Age'], bins=age_bins, labels=age_labels)"
   ]
  },
  {
   "cell_type": "code",
   "execution_count": 27,
   "id": "f158cb11",
   "metadata": {},
   "outputs": [],
   "source": [
    "grouped_patients = df.groupby('age_group')"
   ]
  },
  {
   "cell_type": "code",
   "execution_count": 28,
   "id": "98b537e1",
   "metadata": {},
   "outputs": [
    {
     "name": "stdout",
     "output_type": "stream",
     "text": [
      "Group: 18-30\n",
      "     Age Sex ChestPainType  RestingBP  Cholesterol  FastingBS RestingECG  \\\n",
      "170   29   M           ATA        120          243          0     Normal   \n",
      "208   28   M           ATA        130          132          0        LVH   \n",
      "215   30   F            TA        170          237          0         ST   \n",
      "219   29   M           ATA        140          263          0     Normal   \n",
      "829   29   M           ATA        130          204          0        LVH   \n",
      "\n",
      "     MaxHR ExerciseAngina  Oldpeak ST_Slope  HeartDisease age_group  \n",
      "170    160              N      0.0       Up             0     18-30  \n",
      "208    185              N      0.0       Up             0     18-30  \n",
      "215    170              N      0.0       Up             0     18-30  \n",
      "219    170              N      0.0       Up             0     18-30  \n",
      "829    202              N      0.0       Up             0     18-30  \n",
      "\n",
      "\n",
      "Group: 31-40\n",
      "     Age Sex ChestPainType  RestingBP  Cholesterol  FastingBS RestingECG  \\\n",
      "0     40   M           ATA        140          289          0     Normal   \n",
      "2     37   M           ATA        130          283          0         ST   \n",
      "5     39   M           NAP        120          339          0     Normal   \n",
      "8     37   M           ASY        140          207          0     Normal   \n",
      "10    37   F           NAP        130          211          0     Normal   \n",
      "..   ...  ..           ...        ...          ...        ...        ...   \n",
      "846   39   M           ASY        118          219          0     Normal   \n",
      "856   39   M           NAP        140          321          0        LVH   \n",
      "892   39   F           NAP        138          220          0     Normal   \n",
      "898   35   M           ATA        122          192          0     Normal   \n",
      "917   38   M           NAP        138          175          0     Normal   \n",
      "\n",
      "     MaxHR ExerciseAngina  Oldpeak ST_Slope  HeartDisease age_group  \n",
      "0      172              N      0.0       Up             0     31-40  \n",
      "2       98              N      0.0       Up             0     31-40  \n",
      "5      170              N      0.0       Up             0     31-40  \n",
      "8      130              Y      1.5     Flat             1     31-40  \n",
      "10     142              N      0.0       Up             0     31-40  \n",
      "..     ...            ...      ...      ...           ...       ...  \n",
      "846    140              N      1.2     Flat             1     31-40  \n",
      "856    182              N      0.0       Up             0     31-40  \n",
      "892    152              N      0.0     Flat             0     31-40  \n",
      "898    174              N      0.0       Up             0     31-40  \n",
      "917    173              N      0.0       Up             0     31-40  \n",
      "\n",
      "[88 rows x 13 columns]\n",
      "\n",
      "\n",
      "Group: 41-50\n",
      "     Age Sex ChestPainType  RestingBP  Cholesterol  FastingBS RestingECG  \\\n",
      "1     49   F           NAP        160          180          0     Normal   \n",
      "3     48   F           ASY        138          214          0     Normal   \n",
      "6     45   F           ATA        130          237          0     Normal   \n",
      "9     48   F           ATA        120          284          0     Normal   \n",
      "13    49   M           ASY        140          234          0     Normal   \n",
      "..   ...  ..           ...        ...          ...        ...        ...   \n",
      "887   43   M           ASY        132          247          1        LVH   \n",
      "896   47   M           NAP        130          253          0     Normal   \n",
      "907   44   M           ASY        120          169          0     Normal   \n",
      "910   41   M           ATA        120          157          0     Normal   \n",
      "913   45   M            TA        110          264          0     Normal   \n",
      "\n",
      "     MaxHR ExerciseAngina  Oldpeak ST_Slope  HeartDisease age_group  \n",
      "1      156              N      1.0     Flat             1     41-50  \n",
      "3      108              Y      1.5     Flat             1     41-50  \n",
      "6      170              N      0.0       Up             0     41-50  \n",
      "9      120              N      0.0       Up             0     41-50  \n",
      "13     140              Y      1.0     Flat             1     41-50  \n",
      "..     ...            ...      ...      ...           ...       ...  \n",
      "887    143              Y      0.1     Flat             1     41-50  \n",
      "896    179              N      0.0       Up             0     41-50  \n",
      "907    144              Y      2.8     Down             1     41-50  \n",
      "910    182              N      0.0       Up             0     41-50  \n",
      "913    132              N      1.2     Flat             1     41-50  \n",
      "\n",
      "[223 rows x 13 columns]\n",
      "\n",
      "\n",
      "Group: 51-60\n",
      "     Age Sex ChestPainType  RestingBP  Cholesterol  FastingBS RestingECG  \\\n",
      "4     54   M           NAP        150          195          0     Normal   \n",
      "7     54   M           ATA        110          208          0     Normal   \n",
      "11    58   M           ATA        136          164          0         ST   \n",
      "15    54   F           ATA        120          273          0     Normal   \n",
      "18    60   M           ASY        100          248          0     Normal   \n",
      "..   ...  ..           ...        ...          ...        ...        ...   \n",
      "906   55   F           ATA        132          342          0     Normal   \n",
      "911   59   M           ASY        164          176          1        LVH   \n",
      "912   57   F           ASY        140          241          0     Normal   \n",
      "915   57   M           ASY        130          131          0     Normal   \n",
      "916   57   F           ATA        130          236          0        LVH   \n",
      "\n",
      "     MaxHR ExerciseAngina  Oldpeak ST_Slope  HeartDisease age_group  \n",
      "4      122              N      0.0       Up             0     51-60  \n",
      "7      142              N      0.0       Up             0     51-60  \n",
      "11      99              Y      2.0     Flat             1     51-60  \n",
      "15     150              N      1.5     Flat             0     51-60  \n",
      "18     125              N      1.0     Flat             1     51-60  \n",
      "..     ...            ...      ...      ...           ...       ...  \n",
      "906    166              N      1.2       Up             0     51-60  \n",
      "911     90              N      1.0     Flat             1     51-60  \n",
      "912    123              Y      0.2     Flat             1     51-60  \n",
      "915    115              Y      1.2     Flat             1     51-60  \n",
      "916    174              N      0.0     Flat             1     51-60  \n",
      "\n",
      "[381 rows x 13 columns]\n",
      "\n",
      "\n",
      "Group: 61+\n",
      "     Age Sex ChestPainType  RestingBP  Cholesterol  FastingBS RestingECG  \\\n",
      "36    65   M           ASY        140          306          1     Normal   \n",
      "82    63   M           ASY        150          223          0     Normal   \n",
      "85    66   M           ASY        140          139          0     Normal   \n",
      "86    65   M           ASY        170          263          1     Normal   \n",
      "100   65   M           ASY        130          275          0         ST   \n",
      "..   ...  ..           ...        ...          ...        ...        ...   \n",
      "899   61   M           ASY        148          203          0     Normal   \n",
      "905   67   M           NAP        152          212          0        LVH   \n",
      "908   63   M           ASY        140          187          0        LVH   \n",
      "909   63   F           ASY        124          197          0     Normal   \n",
      "914   68   M           ASY        144          193          1     Normal   \n",
      "\n",
      "     MaxHR ExerciseAngina  Oldpeak ST_Slope  HeartDisease age_group  \n",
      "36      87              Y      1.5     Flat             1       61+  \n",
      "82     115              N      0.0     Flat             1       61+  \n",
      "85      94              Y      1.0     Flat             1       61+  \n",
      "86     112              Y      2.0     Flat             1       61+  \n",
      "100    115              Y      1.0     Flat             1       61+  \n",
      "..     ...            ...      ...      ...           ...       ...  \n",
      "899    161              N      0.0       Up             1       61+  \n",
      "905    150              N      0.8     Flat             1       61+  \n",
      "908    144              Y      4.0       Up             1       61+  \n",
      "909    136              Y      0.0     Flat             1       61+  \n",
      "914    141              N      3.4     Flat             1       61+  \n",
      "\n",
      "[221 rows x 13 columns]\n",
      "\n",
      "\n"
     ]
    }
   ],
   "source": [
    "# Print the content of each group\n",
    "for age_grp in grouped_patients.groups:\n",
    "    print(f\"Group: {age_grp}\")\n",
    "    print(grouped_patients.get_group(age_grp))\n",
    "    print(\"\\n\")"
   ]
  },
  {
   "cell_type": "markdown",
   "id": "0a5baa86",
   "metadata": {},
   "source": [
    "### Example 5: Calculating the Percentage of Patients with Heart Disease"
   ]
  },
  {
   "cell_type": "markdown",
   "id": "8c3609c8",
   "metadata": {},
   "source": [
    "Explanation: In this example, we calculate the percentage of patients in the dataset who have heart disease. We iterate through the dataset and increment the heart_disease_patients variable whenever we encounter a patient with heart disease ('HeartDisease' equal to '1'). Finally, we calculate the percentage and print it."
   ]
  },
  {
   "cell_type": "code",
   "execution_count": 31,
   "id": "81b17ddc",
   "metadata": {},
   "outputs": [
    {
     "data": {
      "text/plain": [
       "Age  Sex  ChestPainType  RestingBP  Cholesterol  FastingBS  RestingECG  MaxHR  ExerciseAngina  Oldpeak  ST_Slope  HeartDisease  age_group\n",
       "31   M    ASY            120        270          0          Normal      153    Y               1.5      Flat      1             31-40        1\n",
       "60   M    ASY            132        218          0          ST          140    Y               1.5      Down      1             51-60        1\n",
       "61   F    ASY            130        330          0          LVH         169    N               0.0      Up        1             61+          1\n",
       "60   M    NAP            141        316          1          ST          122    Y               1.7      Flat      1             51-60        1\n",
       "                         140        185          0          LVH         155    N               3.0      Flat      1             51-60        1\n",
       "                                                                                                                                            ..\n",
       "53   M    ASY            126        0            0          Normal      106    N               0.0      Flat      1             51-60        1\n",
       "                         125        0            1          Normal      120    N               1.5      Up        1             51-60        1\n",
       "                         124        243          0          Normal      122    Y               2.0      Flat      1             51-60        1\n",
       "                         123        282          0          Normal      95     Y               2.0      Flat      1             51-60        1\n",
       "77   M    ASY            125        304          0          LVH         162    Y               0.0      Up        1             61+          1\n",
       "Length: 508, dtype: int64"
      ]
     },
     "execution_count": 31,
     "metadata": {},
     "output_type": "execute_result"
    }
   ],
   "source": [
    "df[df['HeartDisease']==1].value_counts()"
   ]
  },
  {
   "cell_type": "code",
   "execution_count": null,
   "id": "635c5751",
   "metadata": {},
   "outputs": [],
   "source": []
  }
 ],
 "metadata": {
  "kernelspec": {
   "display_name": "Python 3 (ipykernel)",
   "language": "python",
   "name": "python3"
  },
  "language_info": {
   "codemirror_mode": {
    "name": "ipython",
    "version": 3
   },
   "file_extension": ".py",
   "mimetype": "text/x-python",
   "name": "python",
   "nbconvert_exporter": "python",
   "pygments_lexer": "ipython3",
   "version": "3.9.7"
  }
 },
 "nbformat": 4,
 "nbformat_minor": 5
}
